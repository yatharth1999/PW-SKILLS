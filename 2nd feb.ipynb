{
 "cells": [
  {
   "cell_type": "markdown",
   "id": "d0940bf3",
   "metadata": {},
   "source": [
    "Q1. What are the characteristics of the tuples? Is tuple immutable?\n",
    "\n",
    "\n",
    "ans - \n",
    "1. they are hashable \n",
    "2. they are ordered\n",
    "3. they are immutable\n",
    "\n",
    "sytanx Tuple = (elements)\n",
    "\n",
    "yes, they are immutable in nature as no changes can be made in them "
   ]
  },
  {
   "cell_type": "markdown",
   "id": "1eaf1719",
   "metadata": {},
   "source": [
    "Q2. \n",
    "What are the two tuple methods in python? Give an example of each method. Give a reason why\n",
    "tuples have only two in-built methods as compared to Lists.\n",
    "\n",
    "ans - \n",
    "Tuple = ()\n",
    "Tuple.count() :- returns the number of times a specified element appears in the tuple\n",
    "Tuple.index() :- returns the index of the first occurrence of the specified element in the tuple.\n",
    "\n",
    "tuples are meant to be immutable and lightweight so thats why it has only two elements "
   ]
  },
  {
   "cell_type": "markdown",
   "id": "1e1e3f2f",
   "metadata": {},
   "source": [
    "Q3. Which collection datatypes in python do not allow duplicate items? Write a code using a set to remove\n",
    "duplicates from the given list.\n",
    "\n",
    "ans -  set in python does not allow duplicate items "
   ]
  },
  {
   "cell_type": "code",
   "execution_count": 13,
   "id": "1cd99f65",
   "metadata": {},
   "outputs": [
    {
     "name": "stdout",
     "output_type": "stream",
     "text": [
      "[1, 2, 3, 4]\n"
     ]
    }
   ],
   "source": [
    "\n",
    "List = [1, 1, 1, 2, 1, 3, 1, 4, 2, 1, 2, 2, 2, 3, 2, 4, 3, 1, 3, 2, 3, 3, 3, 4, 4, 1, 4, 2, 4, 3, 4, 4]\n",
    "\n",
    "List = set(List)\n",
    "\n",
    "List = list(List)\n",
    "print(List)"
   ]
  },
  {
   "cell_type": "markdown",
   "id": "e1e0e152",
   "metadata": {},
   "source": [
    "Q4. Explain the difference between the union() and update() methods for a set. Give an example of\n",
    "each method."
   ]
  },
  {
   "cell_type": "code",
   "execution_count": 14,
   "id": "2121230f",
   "metadata": {},
   "outputs": [],
   "source": [
    "s1 = {1,2,3,4,5}\n",
    "s2 = {6,7,8,9,10}"
   ]
  },
  {
   "cell_type": "markdown",
   "id": "0e104693",
   "metadata": {},
   "source": [
    "The union() method returns a new set with all the elements of \n",
    "the set that is passed as an argument to the set it is called on."
   ]
  },
  {
   "cell_type": "code",
   "execution_count": 15,
   "id": "2a44bdb9",
   "metadata": {},
   "outputs": [
    {
     "name": "stdout",
     "output_type": "stream",
     "text": [
      "{1, 2, 3, 4, 5, 6, 7, 8, 9, 10}\n",
      "{1, 2, 3, 4, 5}\n"
     ]
    }
   ],
   "source": [
    "print(s1.union(s2))\n",
    "print(s1)"
   ]
  },
  {
   "cell_type": "markdown",
   "id": "3ade478a",
   "metadata": {},
   "source": [
    "The update() method adds all the elements of the set that is passed as an argument to the set it is called on."
   ]
  },
  {
   "cell_type": "code",
   "execution_count": 16,
   "id": "51499aa7",
   "metadata": {},
   "outputs": [
    {
     "name": "stdout",
     "output_type": "stream",
     "text": [
      "{1, 2, 3, 4, 5, 6, 7, 8, 9, 10}\n"
     ]
    }
   ],
   "source": [
    "s1.update(s2)\n",
    "print(s1)"
   ]
  },
  {
   "cell_type": "markdown",
   "id": "22819875",
   "metadata": {},
   "source": [
    "Q5 What is a dictionary? Give an example.Also, state whether a dictionary is ordered or unordered.\n",
    "\n",
    "ans- \n",
    "A dictionary in Python is an unordered collection of key-value pairs, where each key is mapped to a value.\n",
    "Example:"
   ]
  },
  {
   "cell_type": "code",
   "execution_count": 17,
   "id": "af06ee8a",
   "metadata": {},
   "outputs": [
    {
     "name": "stdout",
     "output_type": "stream",
     "text": [
      "{'name': 'Yatharth Vohra', 'age': 23}\n"
     ]
    }
   ],
   "source": [
    "dict1 = {'name': 'Yatharth Vohra', 'age': 23}\n",
    "print(dict1)"
   ]
  },
  {
   "cell_type": "markdown",
   "id": "0be22ed6",
   "metadata": {},
   "source": [
    "A dictionary in Python is unordered."
   ]
  },
  {
   "cell_type": "markdown",
   "id": "7ad0433c",
   "metadata": {},
   "source": [
    "Q6 Can we create a nested dictionary? If so, please give an example by creating a simple one-level\n",
    "nested dictionary.\n",
    "\n",
    "\n",
    "ans - Yes, we can create a nested dictionary in Python.\n",
    "example:"
   ]
  },
  {
   "cell_type": "code",
   "execution_count": 19,
   "id": "9f737358",
   "metadata": {},
   "outputs": [
    {
     "name": "stdout",
     "output_type": "stream",
     "text": [
      "{'person1': {'name': 'Yatharth Vohra', 'age': 23}, 'person2': {'name': 'Gayatri Vohra', 'age': 30}}\n"
     ]
    }
   ],
   "source": [
    "dict1 = {'person1':{'name': 'Yatharth Vohra', 'age': 23},'person2':{'name':'Gayatri Vohra','age':30}}\n",
    "print(dict1)"
   ]
  },
  {
   "cell_type": "markdown",
   "id": "f6c2369a",
   "metadata": {},
   "source": [
    "Q7. Using setdefault() method, create key named topics in the given dictionary and also add the value of\n",
    "the key as this list ['Python', 'Machine Learning’, 'Deep Learning']\n",
    "dict1 = {'language' : 'Python', 'course': 'Data Science Masters'}\n",
    "\n",
    "\n",
    "ans:"
   ]
  },
  {
   "cell_type": "code",
   "execution_count": 22,
   "id": "bb76bc11",
   "metadata": {},
   "outputs": [
    {
     "name": "stdout",
     "output_type": "stream",
     "text": [
      "{'language': 'Python', 'course': 'Data Science Masters', 'topics': ['Python', 'Machine Learning', 'Deep Learning']}\n"
     ]
    }
   ],
   "source": [
    "dict1 = {'language' : 'Python', 'course': 'Data Science Masters'}\n",
    "dict1.setdefault('topics', ['Python', 'Machine Learning', 'Deep Learning'])\n",
    "print(dict1)                          "
   ]
  },
  {
   "cell_type": "markdown",
   "id": "a9238f74",
   "metadata": {},
   "source": [
    "Q8. What are the three view objects in dictionaries? Use the three in-built methods in python to display\n",
    "these three view objects for the given dictionary.\n",
    "\n",
    "ans- "
   ]
  },
  {
   "cell_type": "code",
   "execution_count": 26,
   "id": "5f041603",
   "metadata": {},
   "outputs": [],
   "source": [
    "dict1 = {'Sport': 'Cricket' , 'Teams': ['India', 'Australia', 'England', 'South Africa', 'Sri Lanka', 'New Zealand']}"
   ]
  },
  {
   "cell_type": "markdown",
   "id": "f7cb8db6",
   "metadata": {},
   "source": [
    "keys(): returns a view object displaying a list of all the keys in the dictionary"
   ]
  },
  {
   "cell_type": "code",
   "execution_count": 27,
   "id": "1039607d",
   "metadata": {},
   "outputs": [
    {
     "data": {
      "text/plain": [
       "dict_keys(['Sport', 'Teams'])"
      ]
     },
     "execution_count": 27,
     "metadata": {},
     "output_type": "execute_result"
    }
   ],
   "source": [
    "dict1.keys()"
   ]
  },
  {
   "cell_type": "markdown",
   "id": "46005b95",
   "metadata": {},
   "source": [
    "values(): returns a view object displaying a list of all the values in the dictionary"
   ]
  },
  {
   "cell_type": "code",
   "execution_count": 28,
   "id": "17f06801",
   "metadata": {},
   "outputs": [
    {
     "data": {
      "text/plain": [
       "dict_values(['Cricket', ['India', 'Australia', 'England', 'South Africa', 'Sri Lanka', 'New Zealand']])"
      ]
     },
     "execution_count": 28,
     "metadata": {},
     "output_type": "execute_result"
    }
   ],
   "source": [
    "dict1.values()"
   ]
  },
  {
   "cell_type": "markdown",
   "id": "eae8963e",
   "metadata": {},
   "source": [
    "items(): returns a view object displaying a list of all the key-value pairs in the dictionary"
   ]
  },
  {
   "cell_type": "code",
   "execution_count": 29,
   "id": "fb3d0ed8",
   "metadata": {},
   "outputs": [
    {
     "data": {
      "text/plain": [
       "dict_items([('Sport', 'Cricket'), ('Teams', ['India', 'Australia', 'England', 'South Africa', 'Sri Lanka', 'New Zealand'])])"
      ]
     },
     "execution_count": 29,
     "metadata": {},
     "output_type": "execute_result"
    }
   ],
   "source": [
    "dict1.items()"
   ]
  },
  {
   "cell_type": "code",
   "execution_count": null,
   "id": "76abfb6b",
   "metadata": {},
   "outputs": [],
   "source": []
  }
 ],
 "metadata": {
  "kernelspec": {
   "display_name": "Python 3 (ipykernel)",
   "language": "python",
   "name": "python3"
  },
  "language_info": {
   "codemirror_mode": {
    "name": "ipython",
    "version": 3
   },
   "file_extension": ".py",
   "mimetype": "text/x-python",
   "name": "python",
   "nbconvert_exporter": "python",
   "pygments_lexer": "ipython3",
   "version": "3.9.13"
  }
 },
 "nbformat": 4,
 "nbformat_minor": 5
}
