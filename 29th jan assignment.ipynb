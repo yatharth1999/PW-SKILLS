{
 "cells": [
  {
   "cell_type": "markdown",
   "id": "247b229b",
   "metadata": {},
   "source": [
    "1. Who developed Python Programming Language?\n",
    "ans - Guido van Rossum\n",
    "\n",
    "2. Which type of Programming does  Python support?\n",
    "ans - object-oriented, imperative, and functional programming.\n",
    "\n",
    "3. Is Python case sensitive when dealing with identifiers?\n",
    "ans-Yes, Python is case sensitive when dealing with identifiers.\n",
    "\n",
    "4. What is the correct extension of the Python file?\n",
    "ans- The correct extension of the Python file is '.py'\n",
    "\n",
    "5. Is Python code compiled or interpreted?\n",
    "ans-Python is an interpreted language, not a compiled language.\n",
    "\n",
    "6.  Name a few  blocks of code used to define in Python language?\n",
    "ans- Blocks of code in Python are defined using indentation, including functions, loops, and control structures.\n",
    "\n",
    "7. State  a character used to give single-line comments in Python?\n",
    "ans- The character '#' is used to give single-line comments in Python.\n",
    "\n",
    "8. Mention functions which can help us to find the version of python that we are currently working on?\n",
    "ans-The 'sys' module provides the 'version' and 'version_info' attributes that can be used to determine the version of Python you are currently working on.\n",
    "\n",
    "9. Python supports the creation of anonymous functions at runtime, using a construct called\n",
    "ans-The construct used for creating anonymous functions at runtime in Python is called \"lambda function\".\n",
    "\n",
    "10. What does pip stand for python?\n",
    "ans-Pip stands for \"Pip Installs Packages\".\n",
    "\n",
    "I1. Mention a few  built-in functionsin python?\n",
    "ans- A few built-in functions in Python include: print(), len(), range(), type(), and str().\n",
    "\n",
    "12. What is the maximum possible length of an  identifier in Python?\n",
    "ans- There is no limit on the length of identifier\n",
    "\n",
    "13. What are the benefits of using  Python?\n",
    "ans-enefits of using Python include its readability and simplicity, ease of use, wide range of applications, and large community support.\n",
    "\n",
    "\n",
    "I4.  How is memory managed in Python?\n",
    "\n",
    "ans- Memory in Python is managed through a garbage collector that automatically frees up memory used by objects that are no longer in use.\n",
    "\n",
    "15.  How to install Python on Windows and sot path variables?\n",
    "\n",
    "16.  Is indentation required in python?\n",
    "ans-    Yes, indentation is required in Python, as it is used to indicate blocks of code."
   ]
  }
 ],
 "metadata": {
  "kernelspec": {
   "display_name": "Python 3 (ipykernel)",
   "language": "python",
   "name": "python3"
  },
  "language_info": {
   "codemirror_mode": {
    "name": "ipython",
    "version": 3
   },
   "file_extension": ".py",
   "mimetype": "text/x-python",
   "name": "python",
   "nbconvert_exporter": "python",
   "pygments_lexer": "ipython3",
   "version": "3.9.13"
  }
 },
 "nbformat": 4,
 "nbformat_minor": 5
}
