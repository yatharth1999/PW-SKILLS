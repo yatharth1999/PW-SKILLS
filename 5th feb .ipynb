{
 "cells": [
  {
   "cell_type": "code",
   "execution_count": null,
   "id": "42c69762",
   "metadata": {},
   "outputs": [],
   "source": [
    "\n",
    "Q1. Explain Class and Object with respect to Object-Oriented Programming. Give a suitable example.\n"
   ]
  },
  {
   "cell_type": "markdown",
   "id": "d9a3eb8d",
   "metadata": {},
   "source": [
    "\n",
    "A1. Class and Object are the two fundamental concepts in Object-Oriented Programming (OOP). A class is a blueprint for creating objects (a particular data structure), providing initial values for state (member variables or attributes), and implementations of behavior (member functions or methods). An object is an instance of a class, created from a class. For example, a class named \"Car\" can have attributes such as color, make, model, and methods such as start, drive, stop, etc.\n",
    "\n"
   ]
  },
  {
   "cell_type": "code",
   "execution_count": null,
   "id": "7ed5f4e4",
   "metadata": {},
   "outputs": [],
   "source": [
    "Q2. Name the four pillars of OOPs.\n",
    "Q3. Explain why the __init__() function is used. Give a suitable example.\n",
    "Q4. Why self is used in OOPs?\n",
    "Q5. What is inheritance? Give an example for each type of inheritance."
   ]
  },
  {
   "cell_type": "markdown",
   "id": "e60f9473",
   "metadata": {},
   "source": [
    "A2. The four pillars of OOPs are:\n",
    "\n",
    "    Encapsulation: The wrapping up of data and functions into a single unit called object.\n",
    "    Abstraction: Hiding the implementation details and exposing only the necessary information to the user.\n",
    "    Inheritance: The mechanism of obtaining the features of a class in another class.\n",
    "    Polymorphism: The ability of an object to take on many forms.\n",
    "\n"
   ]
  },
  {
   "cell_type": "markdown",
   "id": "bb85f6fb",
   "metadata": {},
   "source": [
    "A3. The init() function is used to initialize the attributes of a class and is called when an object of a class is created. It is a special method in Python classes and is automatically called to allocate memory for the newly created object. For example, a class named \"Person\" can have an init() method to initialize the name and age attributes.\n",
    "\n"
   ]
  },
  {
   "cell_type": "code",
   "execution_count": null,
   "id": "c6b5335e",
   "metadata": {},
   "outputs": [],
   "source": []
  },
  {
   "cell_type": "markdown",
   "id": "b7b3f1fa",
   "metadata": {},
   "source": [
    "A4. The self is used in OOPs to represent the instance of the class. It is a reference to the instance of the class and is used to access the attributes and methods of the class. Self is used to distinguish between instance variables (attributes of the class) and local variables.\n",
    "\n"
   ]
  },
  {
   "cell_type": "markdown",
   "id": "863e0ae4",
   "metadata": {},
   "source": [
    "A5. Inheritance is a mechanism in OOPs where a new class is derived from an existing class. The derived class inherits all the attributes and behaviors of the base class and can also have additional attributes and behaviors of its own. There are five types of inheritance in Python:\n",
    "\n",
    "    Single inheritance: A derived class is created from a single base class.\n",
    "    Multiple inheritance: A derived class is created from multiple base classes.\n",
    "    Multi-level inheritance: A derived class is created from a derived class of a base class.\n",
    "    Hierarchical inheritance: A single base class is inherited by multiple derived classes.\n",
    "    Hybrid inheritance: A combination of more than one type of inheritance."
   ]
  }
 ],
 "metadata": {
  "kernelspec": {
   "display_name": "Python 3 (ipykernel)",
   "language": "python",
   "name": "python3"
  },
  "language_info": {
   "codemirror_mode": {
    "name": "ipython",
    "version": 3
   },
   "file_extension": ".py",
   "mimetype": "text/x-python",
   "name": "python",
   "nbconvert_exporter": "python",
   "pygments_lexer": "ipython3",
   "version": "3.9.13"
  }
 },
 "nbformat": 4,
 "nbformat_minor": 5
}
