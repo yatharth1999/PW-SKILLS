{
 "cells": [
  {
   "cell_type": "code",
   "execution_count": 123,
   "id": "87c8132f",
   "metadata": {},
   "outputs": [
    {
     "name": "stdout",
     "output_type": "stream",
     "text": [
      "[1, 2, 3, 4, [44, 55, 66, True], False, (34, 56, 78, 89, 34), {1, 2, 3}, {1: 34, 'key2': [55, 67, 78, 89], 4: (45, 22, 61, 34)}, [56, 'data science'], 'Machine Learning']\n"
     ]
    },
    {
     "data": {
      "text/plain": [
       "[1,\n",
       " 2,\n",
       " 3,\n",
       " 4,\n",
       " 44,\n",
       " 55,\n",
       " 66,\n",
       " 34,\n",
       " 56,\n",
       " 78,\n",
       " 89,\n",
       " 34,\n",
       " 1,\n",
       " 2,\n",
       " 3,\n",
       " 1,\n",
       " 4,\n",
       " 34,\n",
       " 55,\n",
       " 67,\n",
       " 78,\n",
       " 89,\n",
       " 45,\n",
       " 22,\n",
       " 61,\n",
       " 34,\n",
       " 56]"
      ]
     },
     "execution_count": 123,
     "metadata": {},
     "output_type": "execute_result"
    }
   ],
   "source": [
    "\"\"\"Q1. Create a function which will take a list as an argument and return the product of all the numbers\n",
    "after creating a flat list.\n",
    "Use the below-given list as an argument for your function.\n",
    "list1 = [1,2,3,4, [44,55,66, True], False, (34,56,78,89,34), {1,2,3,3,2,1}, {1:34, \"key2\": [55, 67, 78, 89], 4: (45,\n",
    "22, 61, 34)}, [56, 'data science'], 'Machine Learning']\n",
    "\"\"\"\n",
    "\n",
    "y = []\n",
    "\n",
    "def flat_list(x):\n",
    "    \n",
    "    for i in x:\n",
    "        if type(i) == int:\n",
    "            y.append(i)\n",
    "        elif type(i) == tuple:            \n",
    "            flat_list(i)\n",
    "        elif type(i) == list:\n",
    "            flat_list(i)\n",
    "        elif type(i) == set:\n",
    "            flat_list(i)\n",
    "        elif type(i) == dict:\n",
    "            flat_list(i.keys())\n",
    "            flat_list(i.values())\n",
    "            \n",
    "    return y\n",
    "\n",
    "print([1,2,3,4, [44,55,66, True], False, (34,56,78,89,34), {1,2,3,3,2,1}, {1:34, \"key2\": [55, 67, 78, 89], 4: (45,\n",
    "22, 61, 34)}, [56, 'data science'], 'Machine Learning']\n",
    ")    \n",
    "flat_list([1,2,3,4, [44,55,66, True], False, (34,56,78,89,34), {1,2,3,3,2,1}, {1:34, \"key2\": [55, 67, 78, 89], 4: (45,\n",
    "22, 61, 34)}, [56, 'data science'], 'Machine Learning'])\n"
   ]
  },
  {
   "cell_type": "code",
   "execution_count": 124,
   "id": "dd902484",
   "metadata": {},
   "outputs": [
    {
     "name": "stdout",
     "output_type": "stream",
     "text": [
      "I want to become a Data Scientist.\n",
      "r$dzmg$gl$yvxlnv$z$wzgz$hxrvmgrhg."
     ]
    }
   ],
   "source": [
    "x = \"I want to become a Data Scientist.\"\n",
    "print(x)\n",
    "x = x.lower()\n",
    "for i in x:\n",
    "    if i == \" \":\n",
    "        print(\"$\",end=\"\")\n",
    "    elif i.isalphas:\n",
    "        print(chr(ord(\"a\")-ord(i)+ord(\"z\")) , end=\"\")\n",
    "    else:\n",
    "        print(i,end='')"
   ]
  },
  {
   "cell_type": "code",
   "execution_count": null,
   "id": "dc4b3536",
   "metadata": {},
   "outputs": [],
   "source": []
  },
  {
   "cell_type": "code",
   "execution_count": null,
   "id": "da11d586",
   "metadata": {},
   "outputs": [],
   "source": []
  },
  {
   "cell_type": "code",
   "execution_count": null,
   "id": "c035fe1a",
   "metadata": {},
   "outputs": [],
   "source": []
  },
  {
   "cell_type": "code",
   "execution_count": null,
   "id": "07c769c3",
   "metadata": {},
   "outputs": [],
   "source": []
  },
  {
   "cell_type": "code",
   "execution_count": null,
   "id": "92f6e288",
   "metadata": {},
   "outputs": [],
   "source": [
    "\n",
    "    "
   ]
  },
  {
   "cell_type": "code",
   "execution_count": null,
   "id": "aaf24264",
   "metadata": {},
   "outputs": [],
   "source": []
  }
 ],
 "metadata": {
  "kernelspec": {
   "display_name": "Python 3 (ipykernel)",
   "language": "python",
   "name": "python3"
  },
  "language_info": {
   "codemirror_mode": {
    "name": "ipython",
    "version": 3
   },
   "file_extension": ".py",
   "mimetype": "text/x-python",
   "name": "python",
   "nbconvert_exporter": "python",
   "pygments_lexer": "ipython3",
   "version": "3.9.13"
  }
 },
 "nbformat": 4,
 "nbformat_minor": 5
}
