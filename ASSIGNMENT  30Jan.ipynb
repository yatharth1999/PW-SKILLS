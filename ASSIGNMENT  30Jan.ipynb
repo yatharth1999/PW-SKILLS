{
 "cells": [
  {
   "cell_type": "markdown",
   "id": "c6bbfe16",
   "metadata": {},
   "source": [
    "##30th jan Assignment"
   ]
  },
  {
   "cell_type": "markdown",
   "id": "a054f732",
   "metadata": {},
   "source": [
    "###Q1"
   ]
  },
  {
   "cell_type": "code",
   "execution_count": 21,
   "id": "c6306918",
   "metadata": {},
   "outputs": [
    {
     "name": "stdout",
     "output_type": "stream",
     "text": [
      "Please enter your percentage70\n",
      "Your grade is D\n"
     ]
    }
   ],
   "source": [
    "a = int(input(\"Please enter your percentage\"))\n",
    "if(a<=100 and a>=0):\n",
    "    if (a>90):\n",
    "        print(\"Your grade is A\")\n",
    "    elif(a<=90 and a>80):\n",
    "        print(\"Your grade is B\")\n",
    "    elif(a<=90 and a>80):\n",
    "        print(\"Your grade is C\")\n",
    "    else:\n",
    "        print(\"Your grade is D\")\n",
    "else:\n",
    "    print(\"wrong input\")"
   ]
  },
  {
   "cell_type": "markdown",
   "id": "1a11382f",
   "metadata": {},
   "source": [
    "###Q2"
   ]
  },
  {
   "cell_type": "code",
   "execution_count": 22,
   "id": "c83f2517",
   "metadata": {},
   "outputs": [
    {
     "name": "stdout",
     "output_type": "stream",
     "text": [
      "Please enter cost price of bike10000\n",
      "Road tax is 5% total tax amt is:5000.0\n"
     ]
    }
   ],
   "source": [
    "a = int(input(\"Please enter cost price of bike\"))\n",
    "if(a>0):\n",
    "    if (a>100000):\n",
    "        print(\"Road tax is 15% total tax amt is:{}\".format(a*.15))\n",
    "    elif(a<=100000 and a>50000):\n",
    "        print(\"Road tax is 10% total tax amt is:{}\".format(a*.10))\n",
    "    else:\n",
    "        print(\"Road tax is 5% total tax amt is:{}\".format(a*.5))\n",
    "else:\n",
    "    print(\"wrong input\")"
   ]
  },
  {
   "cell_type": "markdown",
   "id": "c8f68c2e",
   "metadata": {},
   "source": [
    "###q3"
   ]
  },
  {
   "cell_type": "code",
   "execution_count": 23,
   "id": "c2cfefcc",
   "metadata": {},
   "outputs": [
    {
     "name": "stdout",
     "output_type": "stream",
     "text": [
      "Enter city name:agra\n",
      "Taj Mahal\n"
     ]
    }
   ],
   "source": [
    "a = input(\"Enter city name:\")\n",
    "if(a.upper()==\"Delhi\".upper()):\n",
    "    print(\"Red Fort\")\n",
    "elif(a.upper()==\"Agra\".upper()):\n",
    "    print(\"Taj Mahal\")\n",
    "elif(a.upper()==\"Jaipur\".upper()):\n",
    "    print(\"Jal Mahal\")\n",
    "else:\n",
    "    print(\"Data Not Available\")"
   ]
  },
  {
   "cell_type": "code",
   "execution_count": 25,
   "id": "076998a5",
   "metadata": {},
   "outputs": [
    {
     "name": "stdout",
     "output_type": "stream",
     "text": [
      "enter a no56\n",
      "2\n"
     ]
    }
   ],
   "source": [
    "###q4\n",
    "a =int( input(\"enter a no\"))\n",
    "count = 0\n",
    "\n",
    "while a > 10:\n",
    "    a=a/3\n",
    "    count = count + 1\n",
    "\n",
    "print (count)"
   ]
  },
  {
   "cell_type": "code",
   "execution_count": 26,
   "id": "957555e9",
   "metadata": {},
   "outputs": [
    {
     "name": "stdout",
     "output_type": "stream",
     "text": [
      "pw skills\n",
      "pw skills\n",
      "pw skills\n",
      "pw skills\n",
      "pw skills\n",
      "pw skills\n",
      "pw skills\n",
      "pw skills\n",
      "pw skills\n",
      "pw skills\n"
     ]
    }
   ],
   "source": [
    "\"\"\"q5\n",
    "\n",
    "while loop is used when we want to perform a specific task for repeatdly \n",
    "SYNTAX:\n",
    "\n",
    "while condition:\n",
    "    # code to be executed\n",
    "\n",
    "here, 'CONDITION' means true and false \n",
    "True condition: if the condition is true then the while loop will run\n",
    "example a= 10\n",
    "        b= 10\n",
    "        while a == b: (TRUE CONDITION)\n",
    "False condition: if the condition is False then the while loop will stop running\n",
    "example a= 10\n",
    "        b= 15\n",
    "        while a == b (False CONDITION)\n",
    "\"\"\"\n",
    "\n",
    "# example code \n",
    "#print pw skills 10 times\n",
    "i=10\n",
    "while i:\n",
    "    print(\"pw skills\")\n",
    "    i=i-1"
   ]
  },
  {
   "cell_type": "code",
   "execution_count": 27,
   "id": "5626bc06",
   "metadata": {},
   "outputs": [
    {
     "name": "stdout",
     "output_type": "stream",
     "text": [
      "enter a no10\n",
      "left and right (right angle triangle)\n",
      "*\n",
      "**\n",
      "***\n",
      "****\n",
      "*****\n",
      "******\n",
      "*******\n",
      "********\n",
      "*********\n",
      "**********\n",
      "          *\n",
      "         **\n",
      "        ***\n",
      "       ****\n",
      "      *****\n",
      "     ******\n",
      "    *******\n",
      "   ********\n",
      "  *********\n",
      " **********\n",
      "\n",
      "Triangle\n",
      "          * \n",
      "         * * \n",
      "        * * * \n",
      "       * * * * \n",
      "      * * * * * \n",
      "     * * * * * * \n",
      "    * * * * * * * \n",
      "   * * * * * * * * \n",
      "  * * * * * * * * * \n",
      " * * * * * * * * * * \n",
      "\n",
      "Diamond\n",
      "          * \n",
      "         * * \n",
      "        * * * \n",
      "       * * * * \n",
      "      * * * * * \n",
      "     * * * * * * \n",
      "    * * * * * * * \n",
      "   * * * * * * * * \n",
      "  * * * * * * * * * \n",
      " * * * * * * * * * * \n",
      "* * * * * * * * * * * \n",
      " * * * * * * * * * * \n",
      "  * * * * * * * * * \n",
      "   * * * * * * * * \n",
      "    * * * * * * * \n",
      "     * * * * * * \n",
      "      * * * * * \n",
      "       * * * * \n",
      "        * * * \n",
      "         * * \n",
      "          * \n"
     ]
    }
   ],
   "source": [
    "a = int(input(\"enter a no\"))\n",
    "i=0\n",
    "print(\"left and right (right angle triangle)\")\n",
    "while(i<a):\n",
    "    j=0\n",
    "    while(j<i+1):\n",
    "        print(\"*\",end=\"\")\n",
    "        j=j+1\n",
    "    print(\"\")\n",
    "    i=i+1\n",
    "\n",
    "i=0\n",
    "while(i<a):\n",
    "    print(\" \"*(a-i),end=\"\")\n",
    "    j=0\n",
    "    while(j<i+1):\n",
    "        print(\"*\",end=\"\")\n",
    "        j=j+1\n",
    "    print(\"\")\n",
    "    i=i+1\n",
    "print(\"\\nTriangle\")\n",
    "i=0\n",
    "while(i<a):\n",
    "    print(\" \"*(a-i),end=\"\")\n",
    "    j=0\n",
    "    while(j<i+1):\n",
    "        print(\"*\",end=\" \")\n",
    "        j=j+1\n",
    "    print(\"\")\n",
    "    i=i+1\n",
    "\n",
    "print(\"\\nDiamond\")    \n",
    "i=0\n",
    "while(i<a):\n",
    "    print(\" \"*(a-i),end=\"\")\n",
    "    j=0\n",
    "    while(j<i+1):\n",
    "        print(\"*\",end=\" \")\n",
    "        j=j+1\n",
    "    print(\"\")\n",
    "    i=i+1\n",
    "i=a\n",
    "while(i>=0):\n",
    "    print(\" \"*(a-i),end=\"\")\n",
    "    j=0\n",
    "    while(j<i+1):\n",
    "        print(\"*\",end=\" \")\n",
    "        j=j+1\n",
    "    print(\"\")\n",
    "    i=i-1"
   ]
  },
  {
   "cell_type": "code",
   "execution_count": 28,
   "id": "78e3e123",
   "metadata": {},
   "outputs": [
    {
     "name": "stdout",
     "output_type": "stream",
     "text": [
      "10\n",
      "9\n",
      "8\n",
      "7\n",
      "6\n",
      "5\n",
      "4\n",
      "3\n",
      "2\n",
      "1\n"
     ]
    }
   ],
   "source": [
    "i = 10\n",
    "while(i):\n",
    "    print(i)\n",
    "    i=i-1"
   ]
  },
  {
   "cell_type": "code",
   "execution_count": 29,
   "id": "0a055d6e",
   "metadata": {},
   "outputs": [
    {
     "name": "stdout",
     "output_type": "stream",
     "text": [
      "10\n",
      "9\n",
      "8\n",
      "7\n",
      "6\n",
      "5\n",
      "4\n",
      "3\n",
      "2\n",
      "1\n"
     ]
    }
   ],
   "source": [
    "i = 10\n",
    "while(i):\n",
    "    print(i)\n",
    "    i=i-1"
   ]
  },
  {
   "cell_type": "code",
   "execution_count": null,
   "id": "083114c7",
   "metadata": {},
   "outputs": [],
   "source": []
  },
  {
   "cell_type": "code",
   "execution_count": null,
   "id": "ab4213d1",
   "metadata": {},
   "outputs": [],
   "source": []
  }
 ],
 "metadata": {
  "kernelspec": {
   "display_name": "Python 3 (ipykernel)",
   "language": "python",
   "name": "python3"
  },
  "language_info": {
   "codemirror_mode": {
    "name": "ipython",
    "version": 3
   },
   "file_extension": ".py",
   "mimetype": "text/x-python",
   "name": "python",
   "nbconvert_exporter": "python",
   "pygments_lexer": "ipython3",
   "version": "3.9.13"
  }
 },
 "nbformat": 4,
 "nbformat_minor": 5
}
