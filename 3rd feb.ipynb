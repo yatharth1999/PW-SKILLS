{
 "cells": [
  {
   "cell_type": "markdown",
   "id": "89a07dc0",
   "metadata": {},
   "source": [
    "Q1. Which keyword is used to create a function? Create a function to return a list of odd numbers in the\n",
    "range of 1 to 25.\n",
    "\n",
    "\n",
    "Ans -  'def' keyword is used to create a function"
   ]
  },
  {
   "cell_type": "code",
   "execution_count": 14,
   "id": "50dacb80",
   "metadata": {},
   "outputs": [
    {
     "name": "stdout",
     "output_type": "stream",
     "text": [
      "[1, 3, 5, 7, 9, 11, 13, 15, 17, 19, 21, 23, 25]\n"
     ]
    }
   ],
   "source": [
    "def odd(n):\n",
    "    odd_list= []\n",
    "    for i in range(1,n):\n",
    "        if i%2!=0:\n",
    "            odd_list.append(i) \n",
    "    return odd_list\n",
    "\n",
    "print(odd(26))\n",
    " "
   ]
  },
  {
   "cell_type": "markdown",
   "id": "7364b443",
   "metadata": {},
   "source": [
    "Q2. Why *args and **kwargs is used in some functions? Create a function each for *args and **kwargs to\n",
    "demonstrate their use.\n",
    "\n",
    "ans - \n",
    "*args and **kwargs are used to pass a variable number of arguments to a function.\n",
    "\n",
    "    *args is used to pass a non-keyworded variable length argument list to the function.\n",
    "    **kwargs is used to pass keyworded variable length of arguments to a function"
   ]
  },
  {
   "cell_type": "code",
   "execution_count": null,
   "id": "ffffbdc5",
   "metadata": {},
   "outputs": [],
   "source": []
  },
  {
   "cell_type": "markdown",
   "id": "e37f6c4e",
   "metadata": {},
   "source": [
    "Q3. What is an iterator in python? Name the method used to initialise the iterator object and the method\n",
    "used for iteration. Use these methods to print the first five elements of the given list [2, 4, 6, 8, 10, 12, 14, 16,\n",
    "18, 20].\n",
    "\n",
    "ans - \n",
    " An iterator in python is an object that implements the iterator protocol, which consists of the methods __iter__() and __next__().\n",
    "The method __iter__() is used to initialize the iterator object, and the method __next__() is used for iteration.\n"
   ]
  },
  {
   "cell_type": "code",
   "execution_count": 18,
   "id": "b61ebcb8",
   "metadata": {},
   "outputs": [
    {
     "name": "stdout",
     "output_type": "stream",
     "text": [
      "2\n",
      "4\n",
      "6\n",
      "8\n",
      "10\n"
     ]
    }
   ],
   "source": [
    "list1 = [2, 4, 6, 8, 10, 12, 14, 16, 18, 20]\n",
    "list_iterator = iter(list1)\n",
    "for i in range(5):\n",
    "    print(next(list_iterator))"
   ]
  },
  {
   "cell_type": "markdown",
   "id": "36e4083a",
   "metadata": {},
   "source": [
    "Q4. What is a generator function in python? Why yield keyword is used? Give an example of a generator\n",
    "function.\n",
    "\n",
    "\n",
    "ans - \n",
    "A generator function in python is a special type of function that can be used to generate a sequence of values, one at a time, on-the-fly.\n",
    "The yield keyword is used to return a value from the generator function and pause its execution, so that the next time it is called, the function continues from where it left off.\n"
   ]
  },
  {
   "cell_type": "code",
   "execution_count": 19,
   "id": "b188d512",
   "metadata": {},
   "outputs": [
    {
     "name": "stdout",
     "output_type": "stream",
     "text": [
      "0\n",
      "2\n",
      "4\n",
      "6\n",
      "8\n"
     ]
    }
   ],
   "source": [
    "def even_numbers(limit):\n",
    "    for i in range(0, limit+1, 2):\n",
    "        yield i\n",
    "\n",
    "even_gen = even_numbers(20)\n",
    "for i in range(5):\n",
    "    print(next(even_gen))"
   ]
  },
  {
   "cell_type": "markdown",
   "id": "f8b075a6",
   "metadata": {},
   "source": [
    "Q5. Create a generator function for prime numbers less than 1000. Use the next() method to print the\n",
    "first 20 prime numbers."
   ]
  },
  {
   "cell_type": "code",
   "execution_count": 20,
   "id": "97905331",
   "metadata": {},
   "outputs": [
    {
     "name": "stdout",
     "output_type": "stream",
     "text": [
      "2\n",
      "3\n",
      "5\n",
      "7\n",
      "11\n",
      "13\n",
      "17\n",
      "19\n",
      "23\n",
      "29\n",
      "31\n",
      "37\n",
      "41\n",
      "43\n",
      "47\n",
      "53\n",
      "59\n",
      "61\n",
      "67\n",
      "71\n"
     ]
    }
   ],
   "source": [
    "def prime_generator(limit):\n",
    "    for num in range(2, limit):\n",
    "        for i in range(2, num):\n",
    "            if num % i == 0:\n",
    "                break\n",
    "        else:\n",
    "            yield num\n",
    "\n",
    "prime_gen = prime_generator(1000)\n",
    "for i in range(20):\n",
    "    print(next(prime_gen))"
   ]
  },
  {
   "cell_type": "code",
   "execution_count": null,
   "id": "7c2970d7",
   "metadata": {},
   "outputs": [],
   "source": []
  }
 ],
 "metadata": {
  "kernelspec": {
   "display_name": "Python 3 (ipykernel)",
   "language": "python",
   "name": "python3"
  },
  "language_info": {
   "codemirror_mode": {
    "name": "ipython",
    "version": 3
   },
   "file_extension": ".py",
   "mimetype": "text/x-python",
   "name": "python",
   "nbconvert_exporter": "python",
   "pygments_lexer": "ipython3",
   "version": "3.9.13"
  }
 },
 "nbformat": 4,
 "nbformat_minor": 5
}
